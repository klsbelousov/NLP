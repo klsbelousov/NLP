{
 "cells": [
  {
   "cell_type": "code",
   "execution_count": 1,
   "id": "e03c0bce-f9d4-480f-ab32-528c32b2d1aa",
   "metadata": {},
   "outputs": [
    {
     "name": "stdout",
     "output_type": "stream",
     "text": [
      "2.16.1\n"
     ]
    }
   ],
   "source": [
    "import tensorflow as tf\n",
    "print(tf.__version__)"
   ]
  },
  {
   "cell_type": "code",
   "execution_count": 2,
   "id": "929157ea-f4c0-4e89-ac10-eab5bdf68a9c",
   "metadata": {},
   "outputs": [],
   "source": [
    "##tensorflow >2.0\n",
    "from tensorflow.keras.preprocessing.text import one_hot"
   ]
  },
  {
   "cell_type": "code",
   "execution_count": 3,
   "id": "f15febf5-2f5a-4c36-9e5c-890abd5caad6",
   "metadata": {},
   "outputs": [],
   "source": [
    "### sentences\n",
    "sent = [\n",
    "    'the glass of milk',\n",
    "    'the glass of juice',\n",
    "    'the cup of tea',\n",
    "    'I am a good boy',\n",
    "    'I am a good developer',\n",
    "    'understand the meaning of words',\n",
    "    'your videos are good'\n",
    "]"
   ]
  },
  {
   "cell_type": "code",
   "execution_count": 4,
   "id": "0a8d03d9-27fa-475f-a2f3-f32bd35896eb",
   "metadata": {},
   "outputs": [
    {
     "data": {
      "text/plain": [
       "['the glass of milk',\n",
       " 'the glass of juice',\n",
       " 'the cup of tea',\n",
       " 'I am a good boy',\n",
       " 'I am a good developer',\n",
       " 'understand the meaning of words',\n",
       " 'your videos are good']"
      ]
     },
     "execution_count": 4,
     "metadata": {},
     "output_type": "execute_result"
    }
   ],
   "source": [
    "sent"
   ]
  },
  {
   "cell_type": "code",
   "execution_count": 13,
   "id": "41efa18a-270b-4fdc-be2c-d9f842030d0d",
   "metadata": {},
   "outputs": [],
   "source": [
    "### Vocabulary size\n",
    "voc_size = 10000"
   ]
  },
  {
   "cell_type": "markdown",
   "id": "6f6c075d-61f0-487a-a203-d9ba9907e87f",
   "metadata": {},
   "source": [
    "______"
   ]
  },
  {
   "cell_type": "markdown",
   "id": "cba36ec3-3747-41bd-ae8e-1dcfb6e1be98",
   "metadata": {},
   "source": [
    "### One Hot Representation"
   ]
  },
  {
   "cell_type": "markdown",
   "id": "e6f3c3e0-fb14-4bad-ae8a-609b91f092ed",
   "metadata": {},
   "source": [
    "______"
   ]
  },
  {
   "cell_type": "code",
   "execution_count": 14,
   "id": "5249ebc1-6e4e-407d-b28c-ae58ad897e4e",
   "metadata": {},
   "outputs": [
    {
     "name": "stdout",
     "output_type": "stream",
     "text": [
      "[[7957, 6194, 5469, 6920], [7957, 6194, 5469, 5558], [7957, 4085, 5469, 6303], [2024, 6986, 9646, 8353, 7395], [2024, 6986, 9646, 8353, 3699], [2701, 7957, 488, 5469, 1128], [4870, 846, 4052, 8353]]\n"
     ]
    }
   ],
   "source": [
    "onehot_repr = [one_hot(words, voc_size) for words in sent] \n",
    "print(onehot_repr)"
   ]
  },
  {
   "cell_type": "markdown",
   "id": "40e6babf-1d5f-452c-bf6e-1e3ac379f715",
   "metadata": {},
   "source": [
    "_____"
   ]
  },
  {
   "cell_type": "markdown",
   "id": "3bcc822f-9dd2-4a6d-9a47-4ee5b9ee5a59",
   "metadata": {},
   "source": [
    "### Word Embedding Representation"
   ]
  },
  {
   "cell_type": "markdown",
   "id": "168cd466-3850-4432-b826-aa613850f68f",
   "metadata": {},
   "source": [
    "_____"
   ]
  },
  {
   "cell_type": "code",
   "execution_count": 15,
   "id": "6911357e-acbb-405e-b52d-f4102334782f",
   "metadata": {},
   "outputs": [],
   "source": [
    "from tensorflow.keras.layers import Embedding\n",
    "from tensorflow.keras.preprocessing.sequence import pad_sequences\n",
    "from tensorflow.keras.models import Sequential\n",
    "\n",
    "import numpy as np"
   ]
  },
  {
   "cell_type": "code",
   "execution_count": 16,
   "id": "ab4cb8a8-3949-427f-9e78-03a265443134",
   "metadata": {},
   "outputs": [
    {
     "name": "stdout",
     "output_type": "stream",
     "text": [
      "[[   0    0    0    0 7957 6194 5469 6920]\n",
      " [   0    0    0    0 7957 6194 5469 5558]\n",
      " [   0    0    0    0 7957 4085 5469 6303]\n",
      " [   0    0    0 2024 6986 9646 8353 7395]\n",
      " [   0    0    0 2024 6986 9646 8353 3699]\n",
      " [   0    0    0 2701 7957  488 5469 1128]\n",
      " [   0    0    0    0 4870  846 4052 8353]]\n"
     ]
    }
   ],
   "source": [
    "## pre padding\n",
    "sent_length=8\n",
    "embedded_docs=pad_sequences(onehot_repr,padding='pre',maxlen=sent_length)\n",
    "print(embedded_docs)"
   ]
  },
  {
   "cell_type": "code",
   "execution_count": 65,
   "id": "7e4f1b19-8794-4879-b89d-cc230bc8399e",
   "metadata": {},
   "outputs": [
    {
     "name": "stdout",
     "output_type": "stream",
     "text": [
      "[[   0    0    0    0 7957 6194 5469 6920]\n",
      " [   0    0    0    0 7957 6194 5469 5558]\n",
      " [   0    0    0    0 7957 4085 5469 6303]\n",
      " [   0    0    0 2024 6986 9646 8353 7395]\n",
      " [   0    0    0 2024 6986 9646 8353 3699]\n",
      " [   0    0    0 2701 7957  488 5469 1128]\n",
      " [   0    0    0    0 4870  846 4052 8353]]\n"
     ]
    }
   ],
   "source": [
    "## post padding\n",
    "sent_length=8\n",
    "embedded_docs=pad_sequences(onehot_repr,padding='pre',maxlen=sent_length)\n",
    "print(embedded_docs)"
   ]
  },
  {
   "cell_type": "code",
   "execution_count": 66,
   "id": "4c8e6868-53a6-4bb6-954a-045186a8df14",
   "metadata": {},
   "outputs": [],
   "source": [
    "## 10 feature dimesnions\n",
    "dim=10"
   ]
  },
  {
   "cell_type": "code",
   "execution_count": 79,
   "id": "535e0a2c-4a77-46b1-a223-59cf046f1a31",
   "metadata": {},
   "outputs": [],
   "source": [
    "model = Sequential()\n",
    "model.add(Embedding(input_dim=voc_size, output_dim=10, input_shape=(sent_length, )))\n",
    "model.compile('adam','mse') "
   ]
  },
  {
   "cell_type": "code",
   "execution_count": 80,
   "id": "5561f398-5596-4a27-b5fb-c40fd4dd359f",
   "metadata": {},
   "outputs": [
    {
     "data": {
      "text/html": [
       "<pre style=\"white-space:pre;overflow-x:auto;line-height:normal;font-family:Menlo,'DejaVu Sans Mono',consolas,'Courier New',monospace\"><span style=\"font-weight: bold\">Model: \"sequential_19\"</span>\n",
       "</pre>\n"
      ],
      "text/plain": [
       "\u001b[1mModel: \"sequential_19\"\u001b[0m\n"
      ]
     },
     "metadata": {},
     "output_type": "display_data"
    },
    {
     "data": {
      "text/html": [
       "<pre style=\"white-space:pre;overflow-x:auto;line-height:normal;font-family:Menlo,'DejaVu Sans Mono',consolas,'Courier New',monospace\">┏━━━━━━━━━━━━━━━━━━━━━━━━━━━━━━━━━┳━━━━━━━━━━━━━━━━━━━━━━━━┳━━━━━━━━━━━━━━━┓\n",
       "┃<span style=\"font-weight: bold\"> Layer (type)                    </span>┃<span style=\"font-weight: bold\"> Output Shape           </span>┃<span style=\"font-weight: bold\">       Param # </span>┃\n",
       "┡━━━━━━━━━━━━━━━━━━━━━━━━━━━━━━━━━╇━━━━━━━━━━━━━━━━━━━━━━━━╇━━━━━━━━━━━━━━━┩\n",
       "│ embedding_16 (<span style=\"color: #0087ff; text-decoration-color: #0087ff\">Embedding</span>)        │ (<span style=\"color: #00d7ff; text-decoration-color: #00d7ff\">None</span>, <span style=\"color: #00af00; text-decoration-color: #00af00\">8</span>, <span style=\"color: #00af00; text-decoration-color: #00af00\">10</span>)          │       <span style=\"color: #00af00; text-decoration-color: #00af00\">100,000</span> │\n",
       "└─────────────────────────────────┴────────────────────────┴───────────────┘\n",
       "</pre>\n"
      ],
      "text/plain": [
       "┏━━━━━━━━━━━━━━━━━━━━━━━━━━━━━━━━━┳━━━━━━━━━━━━━━━━━━━━━━━━┳━━━━━━━━━━━━━━━┓\n",
       "┃\u001b[1m \u001b[0m\u001b[1mLayer (type)                   \u001b[0m\u001b[1m \u001b[0m┃\u001b[1m \u001b[0m\u001b[1mOutput Shape          \u001b[0m\u001b[1m \u001b[0m┃\u001b[1m \u001b[0m\u001b[1m      Param #\u001b[0m\u001b[1m \u001b[0m┃\n",
       "┡━━━━━━━━━━━━━━━━━━━━━━━━━━━━━━━━━╇━━━━━━━━━━━━━━━━━━━━━━━━╇━━━━━━━━━━━━━━━┩\n",
       "│ embedding_16 (\u001b[38;5;33mEmbedding\u001b[0m)        │ (\u001b[38;5;45mNone\u001b[0m, \u001b[38;5;34m8\u001b[0m, \u001b[38;5;34m10\u001b[0m)          │       \u001b[38;5;34m100,000\u001b[0m │\n",
       "└─────────────────────────────────┴────────────────────────┴───────────────┘\n"
      ]
     },
     "metadata": {},
     "output_type": "display_data"
    },
    {
     "data": {
      "text/html": [
       "<pre style=\"white-space:pre;overflow-x:auto;line-height:normal;font-family:Menlo,'DejaVu Sans Mono',consolas,'Courier New',monospace\"><span style=\"font-weight: bold\"> Total params: </span><span style=\"color: #00af00; text-decoration-color: #00af00\">100,000</span> (390.62 KB)\n",
       "</pre>\n"
      ],
      "text/plain": [
       "\u001b[1m Total params: \u001b[0m\u001b[38;5;34m100,000\u001b[0m (390.62 KB)\n"
      ]
     },
     "metadata": {},
     "output_type": "display_data"
    },
    {
     "data": {
      "text/html": [
       "<pre style=\"white-space:pre;overflow-x:auto;line-height:normal;font-family:Menlo,'DejaVu Sans Mono',consolas,'Courier New',monospace\"><span style=\"font-weight: bold\"> Trainable params: </span><span style=\"color: #00af00; text-decoration-color: #00af00\">100,000</span> (390.62 KB)\n",
       "</pre>\n"
      ],
      "text/plain": [
       "\u001b[1m Trainable params: \u001b[0m\u001b[38;5;34m100,000\u001b[0m (390.62 KB)\n"
      ]
     },
     "metadata": {},
     "output_type": "display_data"
    },
    {
     "data": {
      "text/html": [
       "<pre style=\"white-space:pre;overflow-x:auto;line-height:normal;font-family:Menlo,'DejaVu Sans Mono',consolas,'Courier New',monospace\"><span style=\"font-weight: bold\"> Non-trainable params: </span><span style=\"color: #00af00; text-decoration-color: #00af00\">0</span> (0.00 B)\n",
       "</pre>\n"
      ],
      "text/plain": [
       "\u001b[1m Non-trainable params: \u001b[0m\u001b[38;5;34m0\u001b[0m (0.00 B)\n"
      ]
     },
     "metadata": {},
     "output_type": "display_data"
    }
   ],
   "source": [
    "model.summary()"
   ]
  },
  {
   "cell_type": "code",
   "execution_count": 81,
   "id": "f726d603-b11a-4696-b383-f545087ac3a6",
   "metadata": {},
   "outputs": [
    {
     "data": {
      "text/plain": [
       "array([   0,    0,    0,    0, 7957, 6194, 5469, 6920], dtype=int32)"
      ]
     },
     "execution_count": 81,
     "metadata": {},
     "output_type": "execute_result"
    }
   ],
   "source": [
    "## 'the glass of milk'\n",
    "\n",
    "embedded_docs[0]"
   ]
  },
  {
   "cell_type": "code",
   "execution_count": 82,
   "id": "84bead45-5244-478a-8b94-52c83a161fa1",
   "metadata": {},
   "outputs": [
    {
     "name": "stdout",
     "output_type": "stream",
     "text": [
      "WARNING:tensorflow:5 out of the last 5 calls to <function TensorFlowTrainer.make_predict_function.<locals>.one_step_on_data_distributed at 0x283e1ed40> triggered tf.function retracing. Tracing is expensive and the excessive number of tracings could be due to (1) creating @tf.function repeatedly in a loop, (2) passing tensors with different shapes, (3) passing Python objects instead of tensors. For (1), please define your @tf.function outside of the loop. For (2), @tf.function has reduce_retracing=True option that can avoid unnecessary retracing. For (3), please refer to https://www.tensorflow.org/guide/function#controlling_retracing and https://www.tensorflow.org/api_docs/python/tf/function for  more details.\n",
      "\u001b[1m1/1\u001b[0m \u001b[32m━━━━━━━━━━━━━━━━━━━━\u001b[0m\u001b[37m\u001b[0m \u001b[1m0s\u001b[0m 28ms/step\n",
      "CPU times: user 68.3 ms, sys: 5.85 ms, total: 74.1 ms\n",
      "Wall time: 71.3 ms\n"
     ]
    },
    {
     "data": {
      "text/plain": [
       "array([[[ 1.4615420e-02, -8.9096539e-03,  3.5221625e-02,  4.1341756e-02,\n",
       "          4.6904683e-03,  3.7545409e-02, -1.1902966e-02, -4.1882314e-02,\n",
       "          2.8792273e-02,  4.7993612e-02],\n",
       "        [ 1.4615420e-02, -8.9096539e-03,  3.5221625e-02,  4.1341756e-02,\n",
       "          4.6904683e-03,  3.7545409e-02, -1.1902966e-02, -4.1882314e-02,\n",
       "          2.8792273e-02,  4.7993612e-02],\n",
       "        [ 1.4615420e-02, -8.9096539e-03,  3.5221625e-02,  4.1341756e-02,\n",
       "          4.6904683e-03,  3.7545409e-02, -1.1902966e-02, -4.1882314e-02,\n",
       "          2.8792273e-02,  4.7993612e-02],\n",
       "        [ 1.4615420e-02, -8.9096539e-03,  3.5221625e-02,  4.1341756e-02,\n",
       "          4.6904683e-03,  3.7545409e-02, -1.1902966e-02, -4.1882314e-02,\n",
       "          2.8792273e-02,  4.7993612e-02],\n",
       "        [-1.1967111e-02, -2.2010792e-02, -6.2325597e-03, -1.1073574e-03,\n",
       "         -4.4424187e-02,  1.9391291e-03, -3.5593286e-03,  3.8151924e-02,\n",
       "          4.7585368e-03,  1.0503076e-02],\n",
       "        [ 1.9931685e-02, -3.3692136e-02, -9.0840347e-03, -8.5012913e-03,\n",
       "         -2.2209669e-02, -2.7134014e-02, -3.6912631e-02,  3.1817887e-02,\n",
       "          1.7451394e-02,  4.8658971e-02],\n",
       "        [ 3.8889181e-02, -1.3645340e-02,  2.7668107e-02,  1.4771223e-03,\n",
       "          4.1019801e-02,  2.5688853e-02, -4.6952058e-02,  6.4835064e-03,\n",
       "         -2.6874935e-02,  2.6446808e-02],\n",
       "        [-1.4754128e-02, -3.7670814e-02,  1.1413172e-04,  4.4965271e-02,\n",
       "          4.2223334e-03,  3.5907093e-02,  3.9997283e-02,  2.8304074e-02,\n",
       "         -9.5522776e-03,  1.4854800e-02]],\n",
       "\n",
       "       [[ 1.4615420e-02, -8.9096539e-03,  3.5221625e-02,  4.1341756e-02,\n",
       "          4.6904683e-03,  3.7545409e-02, -1.1902966e-02, -4.1882314e-02,\n",
       "          2.8792273e-02,  4.7993612e-02],\n",
       "        [ 1.4615420e-02, -8.9096539e-03,  3.5221625e-02,  4.1341756e-02,\n",
       "          4.6904683e-03,  3.7545409e-02, -1.1902966e-02, -4.1882314e-02,\n",
       "          2.8792273e-02,  4.7993612e-02],\n",
       "        [ 1.4615420e-02, -8.9096539e-03,  3.5221625e-02,  4.1341756e-02,\n",
       "          4.6904683e-03,  3.7545409e-02, -1.1902966e-02, -4.1882314e-02,\n",
       "          2.8792273e-02,  4.7993612e-02],\n",
       "        [ 1.4615420e-02, -8.9096539e-03,  3.5221625e-02,  4.1341756e-02,\n",
       "          4.6904683e-03,  3.7545409e-02, -1.1902966e-02, -4.1882314e-02,\n",
       "          2.8792273e-02,  4.7993612e-02],\n",
       "        [-1.1967111e-02, -2.2010792e-02, -6.2325597e-03, -1.1073574e-03,\n",
       "         -4.4424187e-02,  1.9391291e-03, -3.5593286e-03,  3.8151924e-02,\n",
       "          4.7585368e-03,  1.0503076e-02],\n",
       "        [ 1.9931685e-02, -3.3692136e-02, -9.0840347e-03, -8.5012913e-03,\n",
       "         -2.2209669e-02, -2.7134014e-02, -3.6912631e-02,  3.1817887e-02,\n",
       "          1.7451394e-02,  4.8658971e-02],\n",
       "        [ 3.8889181e-02, -1.3645340e-02,  2.7668107e-02,  1.4771223e-03,\n",
       "          4.1019801e-02,  2.5688853e-02, -4.6952058e-02,  6.4835064e-03,\n",
       "         -2.6874935e-02,  2.6446808e-02],\n",
       "        [-1.5639782e-02, -3.8457084e-02,  4.3333758e-02, -8.1831440e-03,\n",
       "         -4.9594332e-02, -3.6040377e-02, -2.2696435e-02, -1.8154182e-02,\n",
       "         -2.1783520e-02, -2.9266609e-02]],\n",
       "\n",
       "       [[ 1.4615420e-02, -8.9096539e-03,  3.5221625e-02,  4.1341756e-02,\n",
       "          4.6904683e-03,  3.7545409e-02, -1.1902966e-02, -4.1882314e-02,\n",
       "          2.8792273e-02,  4.7993612e-02],\n",
       "        [ 1.4615420e-02, -8.9096539e-03,  3.5221625e-02,  4.1341756e-02,\n",
       "          4.6904683e-03,  3.7545409e-02, -1.1902966e-02, -4.1882314e-02,\n",
       "          2.8792273e-02,  4.7993612e-02],\n",
       "        [ 1.4615420e-02, -8.9096539e-03,  3.5221625e-02,  4.1341756e-02,\n",
       "          4.6904683e-03,  3.7545409e-02, -1.1902966e-02, -4.1882314e-02,\n",
       "          2.8792273e-02,  4.7993612e-02],\n",
       "        [ 1.4615420e-02, -8.9096539e-03,  3.5221625e-02,  4.1341756e-02,\n",
       "          4.6904683e-03,  3.7545409e-02, -1.1902966e-02, -4.1882314e-02,\n",
       "          2.8792273e-02,  4.7993612e-02],\n",
       "        [-1.1967111e-02, -2.2010792e-02, -6.2325597e-03, -1.1073574e-03,\n",
       "         -4.4424187e-02,  1.9391291e-03, -3.5593286e-03,  3.8151924e-02,\n",
       "          4.7585368e-03,  1.0503076e-02],\n",
       "        [ 2.1658931e-02,  1.2363374e-02,  2.5856305e-02,  6.7312233e-03,\n",
       "         -2.8386069e-02, -2.9541422e-02,  1.8868897e-02,  2.1430738e-03,\n",
       "          9.3738325e-03, -3.1158138e-02],\n",
       "        [ 3.8889181e-02, -1.3645340e-02,  2.7668107e-02,  1.4771223e-03,\n",
       "          4.1019801e-02,  2.5688853e-02, -4.6952058e-02,  6.4835064e-03,\n",
       "         -2.6874935e-02,  2.6446808e-02],\n",
       "        [-3.7374415e-02, -2.5598098e-02,  2.5974106e-02,  1.5300993e-02,\n",
       "         -4.4339251e-02, -2.2525728e-02, -1.7573945e-03, -4.1604042e-05,\n",
       "         -4.0397346e-02,  3.7832532e-02]],\n",
       "\n",
       "       [[ 1.4615420e-02, -8.9096539e-03,  3.5221625e-02,  4.1341756e-02,\n",
       "          4.6904683e-03,  3.7545409e-02, -1.1902966e-02, -4.1882314e-02,\n",
       "          2.8792273e-02,  4.7993612e-02],\n",
       "        [ 1.4615420e-02, -8.9096539e-03,  3.5221625e-02,  4.1341756e-02,\n",
       "          4.6904683e-03,  3.7545409e-02, -1.1902966e-02, -4.1882314e-02,\n",
       "          2.8792273e-02,  4.7993612e-02],\n",
       "        [ 1.4615420e-02, -8.9096539e-03,  3.5221625e-02,  4.1341756e-02,\n",
       "          4.6904683e-03,  3.7545409e-02, -1.1902966e-02, -4.1882314e-02,\n",
       "          2.8792273e-02,  4.7993612e-02],\n",
       "        [ 2.1769490e-02,  4.8283521e-02,  1.1389628e-03,  8.7888725e-03,\n",
       "          5.7869777e-03,  1.3470124e-02,  1.5387647e-03, -3.9496005e-02,\n",
       "         -3.3399500e-02,  4.8141424e-02],\n",
       "        [ 1.9672956e-02,  5.5715553e-03,  2.7520191e-02, -1.6516030e-02,\n",
       "         -1.7548453e-02, -2.9585088e-02, -1.8403418e-03,  2.8630685e-02,\n",
       "          1.3269473e-02,  8.2105398e-03],\n",
       "        [ 3.8271669e-02,  1.2375042e-04, -3.1099081e-02,  3.6951151e-02,\n",
       "          4.9941961e-02,  1.7720867e-02, -3.7930120e-02,  2.1885168e-02,\n",
       "          2.8049495e-02,  2.4372067e-02],\n",
       "        [-3.9412688e-02, -2.9536737e-02,  2.0830918e-02,  3.8770843e-02,\n",
       "          3.9734628e-02, -1.7658424e-02, -7.4588768e-03, -2.5320165e-03,\n",
       "          1.6505171e-02,  4.1817911e-03],\n",
       "        [ 6.1129220e-03,  1.3811145e-02, -3.2385100e-02, -3.1942047e-02,\n",
       "          2.1316838e-02,  4.9072433e-02, -3.2958269e-02, -1.6604446e-02,\n",
       "         -4.6181977e-02, -4.5705795e-02]],\n",
       "\n",
       "       [[ 1.4615420e-02, -8.9096539e-03,  3.5221625e-02,  4.1341756e-02,\n",
       "          4.6904683e-03,  3.7545409e-02, -1.1902966e-02, -4.1882314e-02,\n",
       "          2.8792273e-02,  4.7993612e-02],\n",
       "        [ 1.4615420e-02, -8.9096539e-03,  3.5221625e-02,  4.1341756e-02,\n",
       "          4.6904683e-03,  3.7545409e-02, -1.1902966e-02, -4.1882314e-02,\n",
       "          2.8792273e-02,  4.7993612e-02],\n",
       "        [ 1.4615420e-02, -8.9096539e-03,  3.5221625e-02,  4.1341756e-02,\n",
       "          4.6904683e-03,  3.7545409e-02, -1.1902966e-02, -4.1882314e-02,\n",
       "          2.8792273e-02,  4.7993612e-02],\n",
       "        [ 2.1769490e-02,  4.8283521e-02,  1.1389628e-03,  8.7888725e-03,\n",
       "          5.7869777e-03,  1.3470124e-02,  1.5387647e-03, -3.9496005e-02,\n",
       "         -3.3399500e-02,  4.8141424e-02],\n",
       "        [ 1.9672956e-02,  5.5715553e-03,  2.7520191e-02, -1.6516030e-02,\n",
       "         -1.7548453e-02, -2.9585088e-02, -1.8403418e-03,  2.8630685e-02,\n",
       "          1.3269473e-02,  8.2105398e-03],\n",
       "        [ 3.8271669e-02,  1.2375042e-04, -3.1099081e-02,  3.6951151e-02,\n",
       "          4.9941961e-02,  1.7720867e-02, -3.7930120e-02,  2.1885168e-02,\n",
       "          2.8049495e-02,  2.4372067e-02],\n",
       "        [-3.9412688e-02, -2.9536737e-02,  2.0830918e-02,  3.8770843e-02,\n",
       "          3.9734628e-02, -1.7658424e-02, -7.4588768e-03, -2.5320165e-03,\n",
       "          1.6505171e-02,  4.1817911e-03],\n",
       "        [ 1.3657559e-02, -3.2458194e-03,  1.3027564e-03, -2.6363565e-02,\n",
       "         -5.2604675e-03,  3.2075420e-03, -1.2264859e-02,  1.2567390e-02,\n",
       "          4.7977421e-02,  3.5631184e-02]],\n",
       "\n",
       "       [[ 1.4615420e-02, -8.9096539e-03,  3.5221625e-02,  4.1341756e-02,\n",
       "          4.6904683e-03,  3.7545409e-02, -1.1902966e-02, -4.1882314e-02,\n",
       "          2.8792273e-02,  4.7993612e-02],\n",
       "        [ 1.4615420e-02, -8.9096539e-03,  3.5221625e-02,  4.1341756e-02,\n",
       "          4.6904683e-03,  3.7545409e-02, -1.1902966e-02, -4.1882314e-02,\n",
       "          2.8792273e-02,  4.7993612e-02],\n",
       "        [ 1.4615420e-02, -8.9096539e-03,  3.5221625e-02,  4.1341756e-02,\n",
       "          4.6904683e-03,  3.7545409e-02, -1.1902966e-02, -4.1882314e-02,\n",
       "          2.8792273e-02,  4.7993612e-02],\n",
       "        [-3.2441340e-02, -2.9627526e-02,  2.7742039e-02, -4.1796945e-02,\n",
       "         -1.0073625e-02,  2.1577749e-02, -2.8619682e-02,  2.4911258e-02,\n",
       "          2.6097987e-02, -1.0055829e-02],\n",
       "        [-1.1967111e-02, -2.2010792e-02, -6.2325597e-03, -1.1073574e-03,\n",
       "         -4.4424187e-02,  1.9391291e-03, -3.5593286e-03,  3.8151924e-02,\n",
       "          4.7585368e-03,  1.0503076e-02],\n",
       "        [-2.0058379e-03,  5.4314844e-03, -3.9602030e-02,  9.6514709e-03,\n",
       "          4.1407619e-02,  3.5667308e-03,  1.6072344e-02,  2.1594409e-02,\n",
       "         -1.1923157e-02,  1.8643025e-02],\n",
       "        [ 3.8889181e-02, -1.3645340e-02,  2.7668107e-02,  1.4771223e-03,\n",
       "          4.1019801e-02,  2.5688853e-02, -4.6952058e-02,  6.4835064e-03,\n",
       "         -2.6874935e-02,  2.6446808e-02],\n",
       "        [ 1.3656329e-02, -2.9783249e-02,  3.7428960e-03,  1.3245646e-02,\n",
       "          4.8700720e-04, -4.2544235e-02, -4.2120181e-02, -2.4481535e-02,\n",
       "         -2.1427035e-02,  2.0401563e-02]],\n",
       "\n",
       "       [[ 1.4615420e-02, -8.9096539e-03,  3.5221625e-02,  4.1341756e-02,\n",
       "          4.6904683e-03,  3.7545409e-02, -1.1902966e-02, -4.1882314e-02,\n",
       "          2.8792273e-02,  4.7993612e-02],\n",
       "        [ 1.4615420e-02, -8.9096539e-03,  3.5221625e-02,  4.1341756e-02,\n",
       "          4.6904683e-03,  3.7545409e-02, -1.1902966e-02, -4.1882314e-02,\n",
       "          2.8792273e-02,  4.7993612e-02],\n",
       "        [ 1.4615420e-02, -8.9096539e-03,  3.5221625e-02,  4.1341756e-02,\n",
       "          4.6904683e-03,  3.7545409e-02, -1.1902966e-02, -4.1882314e-02,\n",
       "          2.8792273e-02,  4.7993612e-02],\n",
       "        [ 1.4615420e-02, -8.9096539e-03,  3.5221625e-02,  4.1341756e-02,\n",
       "          4.6904683e-03,  3.7545409e-02, -1.1902966e-02, -4.1882314e-02,\n",
       "          2.8792273e-02,  4.7993612e-02],\n",
       "        [-4.0555488e-02,  2.8965842e-02, -1.6809724e-02, -4.0382612e-02,\n",
       "          8.6791143e-03,  4.7218051e-02, -3.2338761e-02,  3.2952573e-02,\n",
       "          3.8361777e-02, -1.5087761e-02],\n",
       "        [-4.4145476e-02, -3.0689741e-02,  6.2917098e-03,  4.7932092e-02,\n",
       "          2.4582993e-02,  2.7695980e-02,  2.0139065e-02,  2.8410662e-02,\n",
       "         -2.4908377e-02,  7.1145184e-03],\n",
       "        [-4.9125936e-02, -3.8184144e-02, -3.4501180e-03, -3.6516655e-02,\n",
       "         -4.4909466e-02,  4.0235650e-02, -3.7109494e-02,  7.1284883e-03,\n",
       "         -1.3976194e-02,  4.7861282e-02],\n",
       "        [-3.9412688e-02, -2.9536737e-02,  2.0830918e-02,  3.8770843e-02,\n",
       "          3.9734628e-02, -1.7658424e-02, -7.4588768e-03, -2.5320165e-03,\n",
       "          1.6505171e-02,  4.1817911e-03]]], dtype=float32)"
      ]
     },
     "execution_count": 82,
     "metadata": {},
     "output_type": "execute_result"
    }
   ],
   "source": [
    "%%time\n",
    "model.predict(embedded_docs)"
   ]
  },
  {
   "cell_type": "code",
   "execution_count": 83,
   "id": "575d0217-73a4-48a2-9c10-a6e33adaa696",
   "metadata": {},
   "outputs": [
    {
     "name": "stdout",
     "output_type": "stream",
     "text": [
      "\u001b[1m1/1\u001b[0m \u001b[32m━━━━━━━━━━━━━━━━━━━━\u001b[0m\u001b[37m\u001b[0m \u001b[1m0s\u001b[0m 15ms/step\n",
      "[[ 0.01461542 -0.00890965  0.03522163  0.04134176  0.00469047  0.03754541\n",
      "  -0.01190297 -0.04188231  0.02879227  0.04799361]\n",
      " [ 0.01461542 -0.00890965  0.03522163  0.04134176  0.00469047  0.03754541\n",
      "  -0.01190297 -0.04188231  0.02879227  0.04799361]\n",
      " [ 0.01461542 -0.00890965  0.03522163  0.04134176  0.00469047  0.03754541\n",
      "  -0.01190297 -0.04188231  0.02879227  0.04799361]\n",
      " [ 0.01461542 -0.00890965  0.03522163  0.04134176  0.00469047  0.03754541\n",
      "  -0.01190297 -0.04188231  0.02879227  0.04799361]\n",
      " [-0.01196711 -0.02201079 -0.00623256 -0.00110736 -0.04442419  0.00193913\n",
      "  -0.00355933  0.03815192  0.00475854  0.01050308]\n",
      " [ 0.01993169 -0.03369214 -0.00908403 -0.00850129 -0.02220967 -0.02713401\n",
      "  -0.03691263  0.03181789  0.01745139  0.04865897]\n",
      " [ 0.03888918 -0.01364534  0.02766811  0.00147712  0.0410198   0.02568885\n",
      "  -0.04695206  0.00648351 -0.02687494  0.02644681]\n",
      " [-0.01475413 -0.03767081  0.00011413  0.04496527  0.00422233  0.03590709\n",
      "   0.03999728  0.02830407 -0.00955228  0.0148548 ]]\n"
     ]
    }
   ],
   "source": [
    "print(model.predict(embedded_docs)[0])"
   ]
  },
  {
   "cell_type": "code",
   "execution_count": null,
   "id": "e21a7706-372d-4504-9ba8-212a8599a6e4",
   "metadata": {},
   "outputs": [],
   "source": []
  },
  {
   "cell_type": "code",
   "execution_count": null,
   "id": "19c6a33a-b1b9-49dc-8fe5-9998ca948aa7",
   "metadata": {},
   "outputs": [],
   "source": []
  },
  {
   "cell_type": "code",
   "execution_count": null,
   "id": "8168e4a9-db83-46b4-a665-7e913b32bce5",
   "metadata": {},
   "outputs": [],
   "source": []
  }
 ],
 "metadata": {
  "kernelspec": {
   "display_name": "Python 3 (ipykernel)",
   "language": "python",
   "name": "python3"
  },
  "language_info": {
   "codemirror_mode": {
    "name": "ipython",
    "version": 3
   },
   "file_extension": ".py",
   "mimetype": "text/x-python",
   "name": "python",
   "nbconvert_exporter": "python",
   "pygments_lexer": "ipython3",
   "version": "3.11.7"
  }
 },
 "nbformat": 4,
 "nbformat_minor": 5
}
